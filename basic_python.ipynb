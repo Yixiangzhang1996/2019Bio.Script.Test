{
  "nbformat": 4,
  "nbformat_minor": 0,
  "metadata": {
    "colab": {
      "name": "basic.python.ipynb",
      "version": "0.3.2",
      "provenance": [],
      "collapsed_sections": [],
      "include_colab_link": true
    },
    "kernelspec": {
      "name": "python3",
      "display_name": "Python 3"
    }
  },
  "cells": [
    {
      "cell_type": "markdown",
      "metadata": {
        "id": "view-in-github",
        "colab_type": "text"
      },
      "source": [
        "<a href=\"https://colab.research.google.com/github/Yixiangzhang1996/2019Bio.Script.Test/blob/master/basic_python.ipynb\" target=\"_parent\"><img src=\"https://colab.research.google.com/assets/colab-badge.svg\" alt=\"Open In Colab\"/></a>"
      ]
    },
    {
      "cell_type": "code",
      "metadata": {
        "id": "PSgUNCjlPW6f",
        "colab_type": "code",
        "outputId": "519bcbd2-5d14-4e25-ccf7-7ff8bff4f48c",
        "colab": {
          "base_uri": "https://localhost:8080/",
          "height": 89
        }
      },
      "source": [
        "\"\"\"\n",
        "Created on Fri Aug 16 13:53:20 2019\n",
        "@author: zyx\n",
        "\"\"\"\n",
        "#!/usr/bin/python\n",
        "#seq1 = \"AAAAAAAAAAAAAA\"\n",
        "#seq2 = \"AGGGGGGCCCCCCCCCTTTTTTAAAAA\"\n",
        "#length1 = len(seq1)\n",
        "#length2 = len(seq2)\n",
        "#print(length1 - length2)\n",
        "#print(type(length))\n",
        "#print(\"The length of \"+ seq + \"is\" + str(length))\n",
        "#perc = 0.2\n",
        "#c_num = length *0.2\n",
        "#print(c_num)\n",
        "\n",
        "\n",
        "seq = [\"AAAAAAAAAAAAAAAAAAAAAATCG\",\"CAAAAAATTTTTGGG\"]\n",
        "print(seq)\n",
        "print(type(seq))\n",
        "\n",
        "print(seq[0])\n",
        "print(seq[1])"
      ],
      "execution_count": 0,
      "outputs": [
        {
          "output_type": "stream",
          "text": [
            "['AAAAAAAAAAAAAAAAAAAAAATCG', 'CAAAAAATTTTTGGG']\n",
            "<class 'list'>\n",
            "AAAAAAAAAAAAAAAAAAAAAATCG\n",
            "CAAAAAATTTTTGGG\n"
          ],
          "name": "stdout"
        }
      ]
    },
    {
      "cell_type": "code",
      "metadata": {
        "id": "g4-OLWGXQNex",
        "colab_type": "code",
        "outputId": "c9979475-b4dd-49dc-b100-39125b84a61b",
        "colab": {
          "base_uri": "https://localhost:8080/",
          "height": 53
        }
      },
      "source": [
        "for ele in seq :\n",
        "  #print(ele)\n",
        "  #print(len(ele))\n",
        "  print(ele + \" \" + str(len(ele)))"
      ],
      "execution_count": 0,
      "outputs": [
        {
          "output_type": "stream",
          "text": [
            "AAAAAAAAAAAAAAAAAAAAAATCG 25\n",
            "CAAAAAATTTTTGGG 15\n"
          ],
          "name": "stdout"
        }
      ]
    }
  ]
}
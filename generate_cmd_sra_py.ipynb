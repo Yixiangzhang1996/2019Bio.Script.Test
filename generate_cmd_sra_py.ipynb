{
  "nbformat": 4,
  "nbformat_minor": 0,
  "metadata": {
    "colab": {
      "name": "generate.cmd.sra.py",
      "version": "0.3.2",
      "provenance": [],
      "collapsed_sections": [],
      "include_colab_link": true
    },
    "kernelspec": {
      "name": "python3",
      "display_name": "Python 3"
    }
  },
  "cells": [
    {
      "cell_type": "markdown",
      "metadata": {
        "id": "view-in-github",
        "colab_type": "text"
      },
      "source": [
        "<a href=\"https://colab.research.google.com/github/Yixiangzhang1996/2019Bio.Script.Test/blob/master/generate_cmd_sra_py.ipynb\" target=\"_parent\"><img src=\"https://colab.research.google.com/assets/colab-badge.svg\" alt=\"Open In Colab\"/></a>"
      ]
    },
    {
      "cell_type": "code",
      "metadata": {
        "id": "a8HmnOZ91_yo",
        "colab_type": "code",
        "colab": {}
      },
      "source": [
        "#SRR\n",
        "### wget ftp://ftp-private.ncbi.nlm.nih.gov:/sra/sra-instant/reads/ByStudy/sra/SRP/SRP021/SRP021493/SRR834864/SRR834864.sra\n",
        "### read acccession file\n",
        "# for each line:\n",
        "#       generate wget cmd\n",
        "#201908\n",
        "#Usage:python  generate.cmd.sra.py accesion.txt > cmd.download.sh\n",
        "import sys\n",
        "#print(sys.srgv[1])\n",
        "acc_file = sys.argv[1]\n",
        "with open(acc_file) as acc_file_handle:\n",
        "    for line in acc_file_handle:\n",
        "        line = line.rstrip()#去掉换行符\n",
        "        #print(line)\n",
        "        cmd_sh = \"nohup wget ftp://ftp-private.ncbi.nlm.nih.gov:/sra/sra-instant/reads/ByStudy/sra/SRP/{srp_6}/{srp_9}/{srp_file} &\".format(srp_6 =line[0:6]),srp_9=line[0:9],srp_file=line+\".sra\")\n",
        "        print(cmd_sh)"
      ],
      "execution_count": 0,
      "outputs": []
    }
  ]
}
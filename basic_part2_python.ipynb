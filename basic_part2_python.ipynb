{
  "nbformat": 4,
  "nbformat_minor": 0,
  "metadata": {
    "colab": {
      "name": "basic.part2.python.ipynb",
      "version": "0.3.2",
      "provenance": [],
      "collapsed_sections": [],
      "include_colab_link": true
    },
    "kernelspec": {
      "name": "python3",
      "display_name": "Python 3"
    }
  },
  "cells": [
    {
      "cell_type": "markdown",
      "metadata": {
        "id": "view-in-github",
        "colab_type": "text"
      },
      "source": [
        "<a href=\"https://colab.research.google.com/github/Yixiangzhang1996/2019Bio.Script.Test/blob/master/basic_part2_python.ipynb\" target=\"_parent\"><img src=\"https://colab.research.google.com/assets/colab-badge.svg\" alt=\"Open In Colab\"/></a>"
      ]
    },
    {
      "cell_type": "code",
      "metadata": {
        "id": "F3Cd-7UkWKnq",
        "colab_type": "code",
        "colab": {
          "base_uri": "https://localhost:8080/",
          "height": 35
        },
        "outputId": "f25732d8-e799-4d50-da0b-3f0a1f9145c3"
      },
      "source": [
        "#!/usr/bin/python\n",
        "seq = \"ATCGCGCGCGCGCGCGATTTTT\"\n",
        "length = len(seq)\n",
        "print(seq + \" \" + str(length))"
      ],
      "execution_count": 3,
      "outputs": [
        {
          "output_type": "stream",
          "text": [
            "ATCGCGCGCGCGCGCGATTTTT 22\n"
          ],
          "name": "stdout"
        }
      ]
    }
  ]
}